{
 "cells": [
  {
   "cell_type": "markdown",
   "metadata": {},
   "source": [
    "Q1. Write a Python function that takes in two arrays of data and calculates the F-value for a variance ratio\n",
    "test. The function should return the F-value and the corresponding p-value for the test."
   ]
  },
  {
   "cell_type": "code",
   "execution_count": 1,
   "metadata": {},
   "outputs": [
    {
     "name": "stdout",
     "output_type": "stream",
     "text": [
      "F-value: 0.32967032967032966\n",
      "P-value: 0.5816333668955771\n"
     ]
    }
   ],
   "source": [
    "import numpy as np\n",
    "from scipy.stats import f_oneway\n",
    "\n",
    "def variance_ratio_test(data1, data2):\n",
    "    \"\"\"\n",
    "    Perform variance ratio test (ANOVA) on two arrays of data.\n",
    "\n",
    "    Parameters:\n",
    "    - data1: First array of data\n",
    "    - data2: Second array of data\n",
    "\n",
    "    Returns:\n",
    "    - f_value: F-value for the test\n",
    "    - p_value: p-value for the test\n",
    "    \"\"\"\n",
    "    # Perform one-way ANOVA\n",
    "    f_value, p_value = f_oneway(data1, data2)\n",
    "\n",
    "    return f_value, p_value\n",
    "\n",
    "# Example usage:\n",
    "data1 = np.array([25, 30, 35, 40, 45])\n",
    "data2 = np.array([20, 28, 32, 38, 42])\n",
    "\n",
    "f_value, p_value = variance_ratio_test(data1, data2)\n",
    "\n",
    "print(\"F-value:\", f_value)\n",
    "print(\"P-value:\", p_value)\n"
   ]
  },
  {
   "cell_type": "markdown",
   "metadata": {},
   "source": [
    "Q2. Given a significance level of 0.05 and the degrees of freedom for the numerator and denominator of an\n",
    "F-distribution, write a Python function that returns the critical F-value for a two-tailed test."
   ]
  },
  {
   "cell_type": "code",
   "execution_count": 2,
   "metadata": {},
   "outputs": [
    {
     "name": "stdout",
     "output_type": "stream",
     "text": [
      "Critical F-value: 4.765048283888203\n"
     ]
    }
   ],
   "source": [
    "from scipy.stats import f\n",
    "\n",
    "def critical_f_value(alpha, df_num, df_denom):\n",
    "    \"\"\"\n",
    "    Calculate the critical F-value for a two-tailed test.\n",
    "\n",
    "    Parameters:\n",
    "    - alpha: Significance level\n",
    "    - df_num: Degrees of freedom for the numerator\n",
    "    - df_denom: Degrees of freedom for the denominator\n",
    "\n",
    "    Returns:\n",
    "    - critical_f: Critical F-value\n",
    "    \"\"\"\n",
    "    # Calculate the critical F-value\n",
    "    critical_f = f.ppf(1 - alpha / 2, df_num, df_denom)\n",
    "\n",
    "    return critical_f\n",
    "\n",
    "# Example usage:\n",
    "alpha = 0.05\n",
    "df_num = 2\n",
    "df_denom = 15\n",
    "\n",
    "critical_f = critical_f_value(alpha, df_num, df_denom)\n",
    "\n",
    "print(\"Critical F-value:\", critical_f)\n"
   ]
  },
  {
   "cell_type": "markdown",
   "metadata": {},
   "source": [
    "Q3. Write a Python program that generates random samples from two normal distributions with known\n",
    "\n",
    "variances and uses an F-test to determine if the variances are equal. The program should output the F-\n",
    "value, degrees of freedom, and p-value for the test."
   ]
  },
  {
   "cell_type": "code",
   "execution_count": 3,
   "metadata": {},
   "outputs": [
    {
     "name": "stdout",
     "output_type": "stream",
     "text": [
      "F-value: 1.9730705883534192\n",
      "Degrees of Freedom (numerator): 49\n",
      "Degrees of Freedom (denominator): 49\n",
      "P-value: 0.019058614885568037\n"
     ]
    }
   ],
   "source": [
    "import numpy as np\n",
    "from scipy.stats import f\n",
    "\n",
    "def variance_ratio_test(sample1, sample2):\n",
    "    \"\"\"\n",
    "    Perform F-test for equality of variances.\n",
    "\n",
    "    Parameters:\n",
    "    - sample1: First random sample\n",
    "    - sample2: Second random sample\n",
    "\n",
    "    Returns:\n",
    "    - f_value: F-statistic\n",
    "    - df_num: Degrees of freedom for the numerator\n",
    "    - df_denom: Degrees of freedom for the denominator\n",
    "    - p_value: P-value for the test\n",
    "    \"\"\"\n",
    "    var1 = np.var(sample1, ddof=1)  # Variance of sample1\n",
    "    var2 = np.var(sample2, ddof=1)  # Variance of sample2\n",
    "\n",
    "    # Perform F-test\n",
    "    f_value = var1 / var2 if var1 > var2 else var2 / var1\n",
    "    df_num = len(sample1) - 1\n",
    "    df_denom = len(sample2) - 1\n",
    "    p_value = 2 * min(f.cdf(f_value, df_num, df_denom), 1 - f.cdf(f_value, df_num, df_denom))\n",
    "\n",
    "    return f_value, df_num, df_denom, p_value\n",
    "\n",
    "# Example usage:\n",
    "np.random.seed(42)  # Setting seed for reproducibility\n",
    "\n",
    "# Generate random samples from normal distributions\n",
    "sample1 = np.random.normal(loc=0, scale=1, size=50)\n",
    "sample2 = np.random.normal(loc=0, scale=1.5, size=50)\n",
    "\n",
    "# Perform variance ratio test\n",
    "f_value, df_num, df_denom, p_value = variance_ratio_test(sample1, sample2)\n",
    "\n",
    "# Output results\n",
    "print(\"F-value:\", f_value)\n",
    "print(\"Degrees of Freedom (numerator):\", df_num)\n",
    "print(\"Degrees of Freedom (denominator):\", df_denom)\n",
    "print(\"P-value:\", p_value)\n"
   ]
  },
  {
   "cell_type": "markdown",
   "metadata": {},
   "source": [
    "Q4.The variances of two populations are known to be 10 and 15. A sample of 12 observations is taken from\n",
    "each population. Conduct an F-test at the 5% significance level to determine if the variances are\n",
    "significantly different."
   ]
  },
  {
   "cell_type": "code",
   "execution_count": 4,
   "metadata": {},
   "outputs": [
    {
     "name": "stdout",
     "output_type": "stream",
     "text": [
      "Fail to reject the null hypothesis. Variances are not significantly different.\n"
     ]
    }
   ],
   "source": [
    "from scipy.stats import f\n",
    "\n",
    "def f_test_for_variances(variance1, variance2, sample_size1, sample_size2, alpha=0.05):\n",
    "    \"\"\"\n",
    "    Perform F-test for equality of variances.\n",
    "\n",
    "    Parameters:\n",
    "    - variance1: Variance of the first population\n",
    "    - variance2: Variance of the second population\n",
    "    - sample_size1: Sample size of the first population\n",
    "    - sample_size2: Sample size of the second population\n",
    "    - alpha: Significance level (default is 0.05)\n",
    "\n",
    "    Returns:\n",
    "    - result: A string indicating the result of the F-test\n",
    "    \"\"\"\n",
    "\n",
    "    # Calculate F-statistic\n",
    "    f_statistic = variance1 / variance2 if variance1 > variance2 else variance2 / variance1\n",
    "\n",
    "    # Degrees of freedom\n",
    "    df_num = sample_size1 - 1\n",
    "    df_denom = sample_size2 - 1\n",
    "\n",
    "    # Critical F-value\n",
    "    critical_f_value = f.ppf(1 - alpha / 2, df_num, df_denom)\n",
    "\n",
    "    # Compare with critical F-value\n",
    "    if f_statistic > critical_f_value:\n",
    "        result = \"Reject the null hypothesis. Variances are significantly different.\"\n",
    "    else:\n",
    "        result = \"Fail to reject the null hypothesis. Variances are not significantly different.\"\n",
    "\n",
    "    return result\n",
    "\n",
    "# Given variances and sample sizes\n",
    "variance1 = 10\n",
    "variance2 = 15\n",
    "sample_size1 = 12\n",
    "sample_size2 = 12\n",
    "alpha = 0.05\n",
    "\n",
    "# Perform F-test\n",
    "result = f_test_for_variances(variance1, variance2, sample_size1, sample_size2, alpha)\n",
    "\n",
    "# Output results\n",
    "print(result)\n"
   ]
  },
  {
   "cell_type": "markdown",
   "metadata": {},
   "source": [
    "Q5. A manufacturer claims that the variance of the diameter of a certain product is 0.005. A sample of 25\n",
    "products is taken, and the sample variance is found to be 0.006. Conduct an F-test at the 1% significance\n",
    "level to determine if the claim is justified."
   ]
  },
  {
   "cell_type": "code",
   "execution_count": 5,
   "metadata": {},
   "outputs": [
    {
     "name": "stdout",
     "output_type": "stream",
     "text": [
      "Fail to reject the null hypothesis. Claimed variance is justified.\n"
     ]
    }
   ],
   "source": [
    "from scipy.stats import f\n",
    "\n",
    "def f_test_for_variance_claim(claimed_variance, sample_variance, sample_size, alpha=0.01):\n",
    "    \"\"\"\n",
    "    Perform F-test to determine if the claimed variance is justified.\n",
    "\n",
    "    Parameters:\n",
    "    - claimed_variance: The claimed variance by the manufacturer\n",
    "    - sample_variance: The sample variance\n",
    "    - sample_size: Sample size\n",
    "    - alpha: Significance level (default is 0.01)\n",
    "\n",
    "    Returns:\n",
    "    - result: A string indicating the result of the F-test\n",
    "    \"\"\"\n",
    "\n",
    "    # Degrees of freedom\n",
    "    df_num = sample_size - 1\n",
    "    df_denom = 1  # Degrees of freedom for the claimed variance\n",
    "\n",
    "    # Calculate F-statistic\n",
    "    f_statistic = sample_variance / claimed_variance\n",
    "\n",
    "    # Critical F-value\n",
    "    critical_f_value = f.ppf(1 - alpha, df_num, df_denom)\n",
    "\n",
    "    # Compare with critical F-value\n",
    "    if f_statistic > critical_f_value:\n",
    "        result = \"Reject the null hypothesis. Claimed variance is not justified.\"\n",
    "    else:\n",
    "        result = \"Fail to reject the null hypothesis. Claimed variance is justified.\"\n",
    "\n",
    "    return result\n",
    "\n",
    "# Given claimed variance, sample variance, and sample size\n",
    "claimed_variance = 0.005\n",
    "sample_variance = 0.006\n",
    "sample_size = 25\n",
    "alpha = 0.01\n",
    "\n",
    "# Perform F-test\n",
    "result = f_test_for_variance_claim(claimed_variance, sample_variance, sample_size, alpha)\n",
    "\n",
    "# Output results\n",
    "print(result)\n"
   ]
  },
  {
   "cell_type": "markdown",
   "metadata": {},
   "source": [
    "Q6. Write a Python function that takes in the degrees of freedom for the numerator and denominator of an\n",
    "F-distribution and calculates the mean and variance of the distribution. The function should return the\n",
    "mean and variance as a tuple."
   ]
  },
  {
   "cell_type": "code",
   "execution_count": 6,
   "metadata": {},
   "outputs": [
    {
     "name": "stdout",
     "output_type": "stream",
     "text": [
      "Mean of F-distribution: 1.25\n",
      "Variance of F-distribution: 1.9097222222222223\n"
     ]
    }
   ],
   "source": [
    "def f_distribution_mean_variance(df_num, df_denom):\n",
    "    \"\"\"\n",
    "    Calculate the mean and variance of an F-distribution.\n",
    "\n",
    "    Parameters:\n",
    "    - df_num: Degrees of freedom for the numerator\n",
    "    - df_denom: Degrees of freedom for the denominator\n",
    "\n",
    "    Returns:\n",
    "    - mean: Mean of the F-distribution\n",
    "    - variance: Variance of the F-distribution\n",
    "    \"\"\"\n",
    "\n",
    "    if df_num <= 0 or df_denom <= 0:\n",
    "        raise ValueError(\"Degrees of freedom must be greater than zero.\")\n",
    "\n",
    "    mean = df_denom / (df_denom - 2)  # Mean formula for F-distribution\n",
    "    variance = (2 * (df_denom ** 2) * (df_num + df_denom - 2)) / (df_num * (df_denom - 2) ** 2 * (df_denom - 4))  # Variance formula for F-distribution\n",
    "\n",
    "    return mean, variance\n",
    "\n",
    "# Example usage:\n",
    "df_num = 3\n",
    "df_denom = 10\n",
    "\n",
    "# Calculate mean and variance of the F-distribution\n",
    "mean, variance = f_distribution_mean_variance(df_num, df_denom)\n",
    "\n",
    "# Output results\n",
    "print(f\"Mean of F-distribution: {mean}\")\n",
    "print(f\"Variance of F-distribution: {variance}\")\n"
   ]
  },
  {
   "cell_type": "markdown",
   "metadata": {},
   "source": [
    "Q7. A random sample of 10 measurements is taken from a normal population with unknown variance. The\n",
    "sample variance is found to be 25. Another random sample of 15 measurements is taken from another\n",
    "normal population with unknown variance, and the sample variance is found to be 20. Conduct an F-test\n",
    "at the 10% significance level to determine if the variances are significantly different."
   ]
  },
  {
   "cell_type": "code",
   "execution_count": 7,
   "metadata": {},
   "outputs": [
    {
     "name": "stdout",
     "output_type": "stream",
     "text": [
      "Result: Variances are not significantly different\n",
      "F-Statistic: 1.25\n",
      "P-Value: 0.6832194382585952\n"
     ]
    }
   ],
   "source": [
    "import scipy.stats as stats\n",
    "\n",
    "def f_test_for_variances(sample_var1, sample_var2, df1, df2, alpha=0.10):\n",
    "    \"\"\"\n",
    "    Perform an F-test for equality of variances.\n",
    "\n",
    "    Parameters:\n",
    "    - sample_var1: Sample variance of the first population\n",
    "    - sample_var2: Sample variance of the second population\n",
    "    - df1: Degrees of freedom for the first sample\n",
    "    - df2: Degrees of freedom for the second sample\n",
    "    - alpha: Significance level (default is 0.10)\n",
    "\n",
    "    Returns:\n",
    "    - result: True if variances are significantly different, False otherwise\n",
    "    - f_statistic: Calculated F-statistic\n",
    "    - p_value: Two-tailed p-value for the test\n",
    "    \"\"\"\n",
    "\n",
    "    # Calculate the F-statistic\n",
    "    f_statistic = sample_var1 / sample_var2 if sample_var1 > sample_var2 else sample_var2 / sample_var1\n",
    "\n",
    "    # Calculate the p-value for a two-tailed test\n",
    "    p_value = 2 * min(stats.f.cdf(f_statistic, df1, df2), 1 - stats.f.cdf(f_statistic, df1, df2))\n",
    "\n",
    "    # Check if variances are significantly different based on the significance level\n",
    "    result = p_value < alpha\n",
    "\n",
    "    return result, f_statistic, p_value\n",
    "\n",
    "# Example usage:\n",
    "sample_var1 = 25\n",
    "sample_var2 = 20\n",
    "df1 = 9  # degrees of freedom for the first sample (n1 - 1)\n",
    "df2 = 14  # degrees of freedom for the second sample (n2 - 1)\n",
    "alpha = 0.10\n",
    "\n",
    "# Perform F-test\n",
    "result, f_statistic, p_value = f_test_for_variances(sample_var1, sample_var2, df1, df2, alpha)\n",
    "\n",
    "# Output results\n",
    "print(f\"Result: Variances {'are' if result else 'are not'} significantly different\")\n",
    "print(f\"F-Statistic: {f_statistic}\")\n",
    "print(f\"P-Value: {p_value}\")\n"
   ]
  },
  {
   "cell_type": "markdown",
   "metadata": {},
   "source": [
    "Q8. The following data represent the waiting times in minutes at two different restaurants on a Saturday\n",
    "night: Restaurant A: 24, 25, 28, 23, 22, 20, 27; Restaurant B: 31, 33, 35, 30, 32, 36. Conduct an F-test at the 5%\n",
    "significance level to determine if the variances are significantly different."
   ]
  },
  {
   "cell_type": "code",
   "execution_count": 8,
   "metadata": {},
   "outputs": [
    {
     "name": "stdout",
     "output_type": "stream",
     "text": [
      "Result: Variances are not significantly different\n",
      "F-Statistic: 1.4551907719609583\n",
      "P-Value: 0.6974815747937484\n"
     ]
    }
   ],
   "source": [
    "import scipy.stats as stats\n",
    "\n",
    "def f_test_for_variances(sample1, sample2, alpha=0.05):\n",
    "    \"\"\"\n",
    "    Perform an F-test for equality of variances.\n",
    "\n",
    "    Parameters:\n",
    "    - sample1: List or array representing the first sample\n",
    "    - sample2: List or array representing the second sample\n",
    "    - alpha: Significance level (default is 0.05)\n",
    "\n",
    "    Returns:\n",
    "    - result: True if variances are significantly different, False otherwise\n",
    "    - f_statistic: Calculated F-statistic\n",
    "    - p_value: Two-tailed p-value for the test\n",
    "    \"\"\"\n",
    "\n",
    "    # Calculate sample variances\n",
    "    sample_var1 = sum((x - sum(sample1) / len(sample1))**2 for x in sample1) / (len(sample1) - 1)\n",
    "    sample_var2 = sum((x - sum(sample2) / len(sample2))**2 for x in sample2) / (len(sample2) - 1)\n",
    "\n",
    "    # Calculate degrees of freedom\n",
    "    df1 = len(sample1) - 1\n",
    "    df2 = len(sample2) - 1\n",
    "\n",
    "    # Calculate the F-statistic\n",
    "    f_statistic = sample_var1 / sample_var2 if sample_var1 > sample_var2 else sample_var2 / sample_var1\n",
    "\n",
    "    # Calculate the p-value for a two-tailed test\n",
    "    p_value = 2 * min(stats.f.cdf(f_statistic, df1, df2), 1 - stats.f.cdf(f_statistic, df1, df2))\n",
    "\n",
    "    # Check if variances are significantly different based on the significance level\n",
    "    result = p_value < alpha\n",
    "\n",
    "    return result, f_statistic, p_value\n",
    "\n",
    "# Example usage:\n",
    "sample_a = [24, 25, 28, 23, 22, 20, 27]\n",
    "sample_b = [31, 33, 35, 30, 32, 36]\n",
    "alpha = 0.05\n",
    "\n",
    "# Perform F-test\n",
    "result, f_statistic, p_value = f_test_for_variances(sample_a, sample_b, alpha)\n",
    "\n",
    "# Output results\n",
    "print(f\"Result: Variances {'are' if result else 'are not'} significantly different\")\n",
    "print(f\"F-Statistic: {f_statistic}\")\n",
    "print(f\"P-Value: {p_value}\")\n"
   ]
  },
  {
   "cell_type": "markdown",
   "metadata": {},
   "source": [
    "Q9. The following data represent the test scores of two groups of students: Group A: 80, 85, 90, 92, 87, 83;\n",
    "Group B: 75, 78, 82, 79, 81, 84. Conduct an F-test at the 1% significance level to determine if the variances\n",
    "are significantly different."
   ]
  },
  {
   "cell_type": "code",
   "execution_count": 9,
   "metadata": {},
   "outputs": [
    {
     "name": "stdout",
     "output_type": "stream",
     "text": [
      "Result: Variances are not significantly different\n",
      "F-Statistic: 1.9442622950819677\n",
      "P-Value: 0.4831043549070688\n"
     ]
    }
   ],
   "source": [
    "import scipy.stats as stats\n",
    "\n",
    "def f_test_for_variances(sample1, sample2, alpha=0.01):\n",
    "    \"\"\"\n",
    "    Perform an F-test for equality of variances.\n",
    "\n",
    "    Parameters:\n",
    "    - sample1: List or array representing the first sample\n",
    "    - sample2: List or array representing the second sample\n",
    "    - alpha: Significance level (default is 0.01)\n",
    "\n",
    "    Returns:\n",
    "    - result: True if variances are significantly different, False otherwise\n",
    "    - f_statistic: Calculated F-statistic\n",
    "    - p_value: Two-tailed p-value for the test\n",
    "    \"\"\"\n",
    "\n",
    "    # Calculate sample variances\n",
    "    sample_var1 = sum((x - sum(sample1) / len(sample1))**2 for x in sample1) / (len(sample1) - 1)\n",
    "    sample_var2 = sum((x - sum(sample2) / len(sample2))**2 for x in sample2) / (len(sample2) - 1)\n",
    "\n",
    "    # Calculate degrees of freedom\n",
    "    df1 = len(sample1) - 1\n",
    "    df2 = len(sample2) - 1\n",
    "\n",
    "    # Calculate the F-statistic\n",
    "    f_statistic = sample_var1 / sample_var2 if sample_var1 > sample_var2 else sample_var2 / sample_var1\n",
    "\n",
    "    # Calculate the p-value for a two-tailed test\n",
    "    p_value = 2 * min(stats.f.cdf(f_statistic, df1, df2), 1 - stats.f.cdf(f_statistic, df1, df2))\n",
    "\n",
    "    # Check if variances are significantly different based on the significance level\n",
    "    result = p_value < alpha\n",
    "\n",
    "    return result, f_statistic, p_value\n",
    "\n",
    "# Example usage:\n",
    "group_a_scores = [80, 85, 90, 92, 87, 83]\n",
    "group_b_scores = [75, 78, 82, 79, 81, 84]\n",
    "alpha = 0.01\n",
    "\n",
    "# Perform F-test\n",
    "result, f_statistic, p_value = f_test_for_variances(group_a_scores, group_b_scores, alpha)\n",
    "\n",
    "# Output results\n",
    "print(f\"Result: Variances {'are' if result else 'are not'} significantly different\")\n",
    "print(f\"F-Statistic: {f_statistic}\")\n",
    "print(f\"P-Value: {p_value}\")\n"
   ]
  }
 ],
 "metadata": {
  "kernelspec": {
   "display_name": "Python 3",
   "language": "python",
   "name": "python3"
  },
  "language_info": {
   "codemirror_mode": {
    "name": "ipython",
    "version": 3
   },
   "file_extension": ".py",
   "mimetype": "text/x-python",
   "name": "python",
   "nbconvert_exporter": "python",
   "pygments_lexer": "ipython3",
   "version": "3.11.3"
  }
 },
 "nbformat": 4,
 "nbformat_minor": 2
}
